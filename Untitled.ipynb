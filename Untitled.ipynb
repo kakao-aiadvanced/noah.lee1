{
 "cells": [
  {
   "cell_type": "code",
   "execution_count": 10,
   "id": "3794aebe-45d9-4326-bad4-e8e6f4fa9956",
   "metadata": {
    "execution": {
     "iopub.execute_input": "2024-10-29T01:33:37.037158Z",
     "iopub.status.busy": "2024-10-29T01:33:37.036787Z",
     "iopub.status.idle": "2024-10-29T01:34:39.354923Z",
     "shell.execute_reply": "2024-10-29T01:34:39.354575Z",
     "shell.execute_reply.started": "2024-10-29T01:33:37.037143Z"
    },
    "tags": []
   },
   "outputs": [],
   "source": [
    "from langchain_community.document_loaders import PyPDFLoader\n",
    "\n",
    "loader = PyPDFLoader(\"/Users/kakao/Desktop/2024_KRX_guidebook.pdf\")\n",
    "pages = loader.load_and_split()"
   ]
  },
  {
   "cell_type": "code",
   "execution_count": 15,
   "id": "9734e9f6-5d65-45d7-a5d0-f2af814df9bb",
   "metadata": {
    "execution": {
     "iopub.execute_input": "2024-10-29T01:35:34.353772Z",
     "iopub.status.busy": "2024-10-29T01:35:34.353372Z",
     "iopub.status.idle": "2024-10-29T01:35:34.358569Z",
     "shell.execute_reply": "2024-10-29T01:35:34.357791Z",
     "shell.execute_reply.started": "2024-10-29T01:35:34.353748Z"
    },
    "tags": []
   },
   "outputs": [
    {
     "data": {
      "text/plain": [
       "[]"
      ]
     },
     "execution_count": 15,
     "metadata": {},
     "output_type": "execute_result"
    }
   ],
   "source": [
    "pages"
   ]
  },
  {
   "cell_type": "code",
   "execution_count": 12,
   "id": "0a68a695-0b59-4bda-bbf9-612a7d517c1d",
   "metadata": {
    "execution": {
     "iopub.execute_input": "2024-10-29T01:35:23.309067Z",
     "iopub.status.busy": "2024-10-29T01:35:23.308708Z",
     "iopub.status.idle": "2024-10-29T01:35:23.312207Z",
     "shell.execute_reply": "2024-10-29T01:35:23.311437Z",
     "shell.execute_reply.started": "2024-10-29T01:35:23.309043Z"
    },
    "tags": []
   },
   "outputs": [],
   "source": [
    "from pathlib import Path"
   ]
  },
  {
   "cell_type": "code",
   "execution_count": 32,
   "id": "a3cad0f0-9286-4fc7-975d-857c97754e7d",
   "metadata": {
    "execution": {
     "iopub.execute_input": "2024-10-29T01:39:28.738347Z",
     "iopub.status.busy": "2024-10-29T01:39:28.737442Z",
     "iopub.status.idle": "2024-10-29T01:39:28.764885Z",
     "shell.execute_reply": "2024-10-29T01:39:28.764523Z",
     "shell.execute_reply.started": "2024-10-29T01:39:28.738286Z"
    },
    "tags": []
   },
   "outputs": [
    {
     "data": {
      "text/plain": [
       "True"
      ]
     },
     "execution_count": 32,
     "metadata": {},
     "output_type": "execute_result"
    }
   ],
   "source": [
    "Path(\"/Users/kakao/Desktop/2024_KRX_guidebook.pdf\").exists()"
   ]
  },
  {
   "cell_type": "code",
   "execution_count": 35,
   "id": "619e890a-7f3b-415d-b89d-6dc60e58973e",
   "metadata": {
    "execution": {
     "iopub.execute_input": "2024-10-29T01:40:04.433810Z",
     "iopub.status.busy": "2024-10-29T01:40:04.433578Z",
     "iopub.status.idle": "2024-10-29T01:40:04.599593Z",
     "shell.execute_reply": "2024-10-29T01:40:04.599211Z",
     "shell.execute_reply.started": "2024-10-29T01:40:04.433796Z"
    },
    "tags": []
   },
   "outputs": [],
   "source": [
    "from pypdf import PdfReader\n",
    "\n",
    "reader = PdfReader(\"/Users/kakao/Desktop/2024_KRX_guidebook.pdf\")\n",
    "number_of_pages = len(reader.pages)\n",
    "page = reader.pages[1]\n",
    "text = page.extract_text()"
   ]
  },
  {
   "cell_type": "code",
   "execution_count": 36,
   "id": "e0ede110-4f08-40ff-8fb6-386ac9e97fbf",
   "metadata": {
    "execution": {
     "iopub.execute_input": "2024-10-29T01:40:55.273866Z",
     "iopub.status.busy": "2024-10-29T01:40:55.272930Z",
     "iopub.status.idle": "2024-10-29T01:40:55.338467Z",
     "shell.execute_reply": "2024-10-29T01:40:55.338120Z",
     "shell.execute_reply.started": "2024-10-29T01:40:55.273805Z"
    },
    "tags": []
   },
   "outputs": [
    {
     "name": "stdout",
     "output_type": "stream",
     "text": [
      "\n"
     ]
    }
   ],
   "source": [
    "for idx in range(len(reader.pages)):\n",
    "    page = reader.pages[idx]\n",
    "    if page != '':\n",
    "        print(page.extract_text())\n",
    "        break"
   ]
  },
  {
   "cell_type": "code",
   "execution_count": 17,
   "id": "edc9bbcf-685e-496c-b5ca-3cd9f2c000aa",
   "metadata": {
    "execution": {
     "iopub.execute_input": "2024-10-29T01:37:24.687296Z",
     "iopub.status.busy": "2024-10-29T01:37:24.687136Z",
     "iopub.status.idle": "2024-10-29T01:37:25.947414Z",
     "shell.execute_reply": "2024-10-29T01:37:25.947003Z",
     "shell.execute_reply.started": "2024-10-29T01:37:24.687281Z"
    },
    "tags": []
   },
   "outputs": [],
   "source": [
    "import pymupdf"
   ]
  },
  {
   "cell_type": "code",
   "execution_count": 18,
   "id": "c7d26073-17f4-4689-9538-920b2e2f3595",
   "metadata": {
    "execution": {
     "iopub.execute_input": "2024-10-29T01:37:44.856511Z",
     "iopub.status.busy": "2024-10-29T01:37:44.856222Z",
     "iopub.status.idle": "2024-10-29T01:37:44.865466Z",
     "shell.execute_reply": "2024-10-29T01:37:44.864975Z",
     "shell.execute_reply.started": "2024-10-29T01:37:44.856493Z"
    },
    "tags": []
   },
   "outputs": [],
   "source": [
    "pdf = pymupdf.open(\"/Users/kakao/Desktop/2024_KRX_guidebook.pdf\")"
   ]
  },
  {
   "cell_type": "code",
   "execution_count": 21,
   "id": "17bd6f6b-e3d6-4cc7-b314-f89c794b87dd",
   "metadata": {
    "execution": {
     "iopub.execute_input": "2024-10-29T01:38:20.737163Z",
     "iopub.status.busy": "2024-10-29T01:38:20.737017Z",
     "iopub.status.idle": "2024-10-29T01:38:20.740268Z",
     "shell.execute_reply": "2024-10-29T01:38:20.739967Z",
     "shell.execute_reply.started": "2024-10-29T01:38:20.737153Z"
    },
    "tags": []
   },
   "outputs": [
    {
     "data": {
      "text/plain": [
       "['__class__',\n",
       " '__delattr__',\n",
       " '__dict__',\n",
       " '__dir__',\n",
       " '__doc__',\n",
       " '__eq__',\n",
       " '__format__',\n",
       " '__ge__',\n",
       " '__getattribute__',\n",
       " '__getstate__',\n",
       " '__gt__',\n",
       " '__hash__',\n",
       " '__init__',\n",
       " '__init_subclass__',\n",
       " '__le__',\n",
       " '__lt__',\n",
       " '__module__',\n",
       " '__ne__',\n",
       " '__new__',\n",
       " '__reduce__',\n",
       " '__reduce_ex__',\n",
       " '__repr__',\n",
       " '__setattr__',\n",
       " '__sizeof__',\n",
       " '__str__',\n",
       " '__subclasshook__',\n",
       " '__weakref__',\n",
       " '_addAnnot_FromString',\n",
       " '_addWidget',\n",
       " '_add_caret_annot',\n",
       " '_add_file_annot',\n",
       " '_add_freetext_annot',\n",
       " '_add_ink_annot',\n",
       " '_add_line_annot',\n",
       " '_add_multiline',\n",
       " '_add_redact_annot',\n",
       " '_add_square_or_circle',\n",
       " '_add_stamp_annot',\n",
       " '_add_text_annot',\n",
       " '_add_text_marker',\n",
       " '_annot_refs',\n",
       " '_apply_redactions',\n",
       " '_count_q_balance',\n",
       " '_erase',\n",
       " '_get_optional_content',\n",
       " '_get_resource_properties',\n",
       " '_get_textpage',\n",
       " '_insertFont',\n",
       " '_insert_image',\n",
       " '_load_annot',\n",
       " '_makePixmap',\n",
       " '_other_box',\n",
       " '_pdf_page',\n",
       " '_reset_annot_refs',\n",
       " '_set_opacity',\n",
       " '_set_pagebox',\n",
       " '_set_resource_property',\n",
       " '_show_pdf_page',\n",
       " 'add_caret_annot',\n",
       " 'add_circle_annot',\n",
       " 'add_file_annot',\n",
       " 'add_freetext_annot',\n",
       " 'add_highlight_annot',\n",
       " 'add_ink_annot',\n",
       " 'add_line_annot',\n",
       " 'add_polygon_annot',\n",
       " 'add_polyline_annot',\n",
       " 'add_rect_annot',\n",
       " 'add_redact_annot',\n",
       " 'add_squiggly_annot',\n",
       " 'add_stamp_annot',\n",
       " 'add_strikeout_annot',\n",
       " 'add_text_annot',\n",
       " 'add_underline_annot',\n",
       " 'add_widget',\n",
       " 'annot_names',\n",
       " 'annot_xrefs',\n",
       " 'annots',\n",
       " 'apply_redactions',\n",
       " 'artbox',\n",
       " 'bleedbox',\n",
       " 'bound',\n",
       " 'clean_contents',\n",
       " 'cluster_drawings',\n",
       " 'cropbox',\n",
       " 'cropbox_position',\n",
       " 'delete_annot',\n",
       " 'delete_image',\n",
       " 'delete_link',\n",
       " 'delete_widget',\n",
       " 'derotation_matrix',\n",
       " 'draw_bezier',\n",
       " 'draw_circle',\n",
       " 'draw_cont',\n",
       " 'draw_curve',\n",
       " 'draw_line',\n",
       " 'draw_oval',\n",
       " 'draw_polyline',\n",
       " 'draw_quad',\n",
       " 'draw_rect',\n",
       " 'draw_sector',\n",
       " 'draw_squiggle',\n",
       " 'draw_zigzag',\n",
       " 'extend_textpage',\n",
       " 'find_tables',\n",
       " 'first_annot',\n",
       " 'first_link',\n",
       " 'first_widget',\n",
       " 'get_bboxlog',\n",
       " 'get_cdrawings',\n",
       " 'get_contents',\n",
       " 'get_displaylist',\n",
       " 'get_drawings',\n",
       " 'get_fonts',\n",
       " 'get_image_bbox',\n",
       " 'get_image_info',\n",
       " 'get_image_rects',\n",
       " 'get_images',\n",
       " 'get_label',\n",
       " 'get_links',\n",
       " 'get_oc_items',\n",
       " 'get_pixmap',\n",
       " 'get_svg_image',\n",
       " 'get_text',\n",
       " 'get_text_blocks',\n",
       " 'get_text_selection',\n",
       " 'get_text_words',\n",
       " 'get_textbox',\n",
       " 'get_textpage',\n",
       " 'get_textpage_ocr',\n",
       " 'get_texttrace',\n",
       " 'get_xobjects',\n",
       " 'insert_font',\n",
       " 'insert_htmlbox',\n",
       " 'insert_image',\n",
       " 'insert_link',\n",
       " 'insert_text',\n",
       " 'insert_textbox',\n",
       " 'is_wrapped',\n",
       " 'language',\n",
       " 'last_point',\n",
       " 'links',\n",
       " 'load_annot',\n",
       " 'load_links',\n",
       " 'load_widget',\n",
       " 'mediabox',\n",
       " 'mediabox_size',\n",
       " 'new_shape',\n",
       " 'number',\n",
       " 'parent',\n",
       " 'read_contents',\n",
       " 'rect',\n",
       " 'refresh',\n",
       " 'remove_rotation',\n",
       " 'replace_image',\n",
       " 'rotation',\n",
       " 'rotation_matrix',\n",
       " 'run',\n",
       " 'search_for',\n",
       " 'set_artbox',\n",
       " 'set_bleedbox',\n",
       " 'set_contents',\n",
       " 'set_cropbox',\n",
       " 'set_language',\n",
       " 'set_mediabox',\n",
       " 'set_rotation',\n",
       " 'set_trimbox',\n",
       " 'show_pdf_page',\n",
       " 'this',\n",
       " 'thisown',\n",
       " 'transformation_matrix',\n",
       " 'trimbox',\n",
       " 'update_link',\n",
       " 'widgets',\n",
       " 'wrap_contents',\n",
       " 'write_text',\n",
       " 'xref']"
      ]
     },
     "execution_count": 21,
     "metadata": {},
     "output_type": "execute_result"
    }
   ],
   "source": [
    "dir(pdf.load_page(1))"
   ]
  },
  {
   "cell_type": "code",
   "execution_count": 31,
   "id": "3895815b-7e88-49f3-905f-f5e6cf408ca6",
   "metadata": {
    "execution": {
     "iopub.execute_input": "2024-10-29T01:39:18.004080Z",
     "iopub.status.busy": "2024-10-29T01:39:18.003499Z",
     "iopub.status.idle": "2024-10-29T01:39:18.048701Z",
     "shell.execute_reply": "2024-10-29T01:39:18.048201Z",
     "shell.execute_reply.started": "2024-10-29T01:39:18.004031Z"
    },
    "tags": []
   },
   "outputs": [
    {
     "data": {
      "text/plain": [
       "''"
      ]
     },
     "execution_count": 31,
     "metadata": {},
     "output_type": "execute_result"
    }
   ],
   "source": [
    "pdf.load_page(24).get_textpage().extractText()"
   ]
  },
  {
   "cell_type": "code",
   "execution_count": null,
   "id": "a5b4cf51-0325-481c-8c1d-267b629305ca",
   "metadata": {},
   "outputs": [],
   "source": []
  }
 ],
 "metadata": {
  "kernelspec": {
   "display_name": "Python 3 (ipykernel)",
   "language": "python",
   "name": "python3"
  },
  "language_info": {
   "codemirror_mode": {
    "name": "ipython",
    "version": 3
   },
   "file_extension": ".py",
   "mimetype": "text/x-python",
   "name": "python",
   "nbconvert_exporter": "python",
   "pygments_lexer": "ipython3",
   "version": "3.11.5"
  }
 },
 "nbformat": 4,
 "nbformat_minor": 5
}
